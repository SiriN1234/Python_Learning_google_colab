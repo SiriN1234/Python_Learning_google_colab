{
  "nbformat": 4,
  "nbformat_minor": 0,
  "metadata": {
    "colab": {
      "name": "chapter_5_3.ipynb",
      "provenance": [],
      "toc_visible": true,
      "authorship_tag": "ABX9TyN2TBWJD7ZVtOxwd+kjlLjB",
      "include_colab_link": true
    },
    "kernelspec": {
      "name": "python3",
      "display_name": "Python 3"
    },
    "language_info": {
      "name": "python"
    }
  },
  "cells": [
    {
      "cell_type": "markdown",
      "metadata": {
        "id": "view-in-github",
        "colab_type": "text"
      },
      "source": [
        "<a href=\"https://colab.research.google.com/github/SiriN1234/Python_Learning_google_colab/blob/main/chapter_5_3.ipynb\" target=\"_parent\"><img src=\"https://colab.research.google.com/assets/colab-badge.svg\" alt=\"Open In Colab\"/></a>"
      ]
    },
    {
      "cell_type": "markdown",
      "source": [
        "출처 : 혼자 공부하는 머신러닝+딥러닝"
      ],
      "metadata": {
        "id": "0fRFwyrZ9w3M"
      }
    },
    {
      "cell_type": "markdown",
      "source": [
        "# 트리의 앙상블\n",
        "\n",
        "- LightGBM 기억\n",
        "  + GBM --> XGBoost --> LightGBM\n",
        "  + 참고 1. 모델 개발 속도가 빨라졌나\n",
        "  + 참고 2. 모델의 성능이 좋아졌나\n",
        "- TabNet (2019)\n",
        "  + 딥러닝 컨셉 이해 필요"
      ],
      "metadata": {
        "id": "EoTR6bD2mUvO"
      }
    },
    {
      "cell_type": "markdown",
      "source": [
        "## 랜덤 포레스트\n",
        "\n",
        "- 결정 트리 나무를 500개 심기\n",
        "- 최종적인 결정은 투표 방식\n",
        "  + 나무-1 : 양성\n",
        "  + 나무-2 : 음성\n",
        "  + 나무-3 : 양성\n",
        "  + ...\n",
        "  + 나무-500 : 양성\n",
        "  + 합산해서 결과 도출"
      ],
      "metadata": {
        "id": "lLNH-z7un-Nn"
      }
    },
    {
      "cell_type": "markdown",
      "source": [
        "# 데이터 불러오기, 데이터 셋 분리"
      ],
      "metadata": {
        "id": "baIph3W4o-2Y"
      }
    },
    {
      "cell_type": "code",
      "source": [
        "import numpy as np\n",
        "import pandas as pd\n",
        "from sklearn.model_selection import train_test_split\n",
        "\n",
        "wine = pd.read_csv('https://bit.ly/wine_csv_data')\n",
        "\n",
        "data = wine[['alcohol', 'sugar', 'pH']].to_numpy()\n",
        "target = wine['class'].to_numpy()\n",
        "\n",
        "train_input, test_input, train_target, test_target = train_test_split(data, \n",
        "                                                                      target, \n",
        "                                                                      test_size=0.2, \n",
        "                                                                      random_state=42)"
      ],
      "metadata": {
        "id": "I9gihVc_pBAo"
      },
      "execution_count": 1,
      "outputs": []
    },
    {
      "cell_type": "markdown",
      "source": [
        "- p. 267\n",
        "  + cross_validate() 교차 검증 수행\n",
        "  + RandomForestClassifier는 기본적으로 100개의 결정 트리를 사용하므로 n_jobs 매개변수를 -1로 지정하여 모든 CPU 코어를 사용하는 것이 좋음\n",
        "  + return_train_score 매개변수를 True로 지정하면 검증 점수뿐만 아니라 훈련 세트에 대한 점수도 같이 반환\n",
        "  + 훈련 세트와 검증 세트의 점수를 비교하면 과대적합을 파악하는데 용이함"
      ],
      "metadata": {
        "id": "m8Zo8eKBpNRC"
      }
    },
    {
      "cell_type": "code",
      "source": [
        "from sklearn.model_selection import cross_validate\n",
        "from sklearn.ensemble import RandomForestClassifier\n",
        "\n",
        "rf = RandomForestClassifier(n_jobs = -1, random_state = 42)\n",
        "scores = cross_validate(rf, train_input, train_target,\n",
        "                        return_train_score = True, n_jobs = -1)\n",
        "\n",
        "print(np.mean(scores['train_score']), np.mean(scores['test_score']))"
      ],
      "metadata": {
        "colab": {
          "base_uri": "https://localhost:8080/"
        },
        "id": "LPAimYEYpU94",
        "outputId": "5d35e6f8-6b83-4a2e-a316-c2c576e1ef90"
      },
      "execution_count": 3,
      "outputs": [
        {
          "output_type": "stream",
          "name": "stdout",
          "text": [
            "0.9973541965122431 0.8905151032797809\n"
          ]
        }
      ]
    },
    {
      "cell_type": "markdown",
      "source": [
        "- 과대적합\n",
        "- 특성 중요도 출력"
      ],
      "metadata": {
        "id": "khBR4XKh2TYv"
      }
    },
    {
      "cell_type": "code",
      "source": [
        "rf.fit(train_input, train_target)\n",
        "print(rf.feature_importances_)"
      ],
      "metadata": {
        "colab": {
          "base_uri": "https://localhost:8080/"
        },
        "id": "CNCerl1vqIgX",
        "outputId": "3708ddce-d6c5-4925-88bb-9dbb0afbdd2b"
      },
      "execution_count": 4,
      "outputs": [
        {
          "output_type": "stream",
          "name": "stdout",
          "text": [
            "[0.23167441 0.50039841 0.26792718]\n"
          ]
        }
      ]
    },
    {
      "cell_type": "markdown",
      "source": [
        "- 자체적으로 모델을 평가하는 점수를 얻을 수 있음\n",
        "- 부트스트랩 샘플에 포함되지 않고 남는 샘플을 OOB 샘플이라 함\n",
        "- OOB 샘플을 사용하여 부트스트랩 샘플로 훈련한 결정 트리를 평가할 수 있음\n",
        "- oob_score 매개변수를 True로 지정하면 사용 가능"
      ],
      "metadata": {
        "id": "Xt9NqyCk2fkn"
      }
    },
    {
      "cell_type": "code",
      "source": [
        "rf = RandomForestClassifier(oob_score = True, n_jobs = -1, random_state = 42)\n",
        "rf.fit(train_input, train_target)\n",
        "print(rf.oob_score_)"
      ],
      "metadata": {
        "colab": {
          "base_uri": "https://localhost:8080/"
        },
        "id": "egEOYbupqo-4",
        "outputId": "d94ae16e-7627-4bc7-b5db-a0ab5f04d16e"
      },
      "execution_count": 5,
      "outputs": [
        {
          "output_type": "stream",
          "name": "stdout",
          "text": [
            "0.8934000384837406\n"
          ]
        }
      ]
    },
    {
      "cell_type": "markdown",
      "source": [
        "# 그레이디언트 부스팅\n",
        "\n",
        "- 이전 트리의 오차를 보완하는 방식으로 사용\n",
        "- 깊이가 얕은 트리를 사용\n",
        "- 학습을 매개변수로 속도를 조정\n",
        "- 단점 : 속도가 느림"
      ],
      "metadata": {
        "id": "3Qmgc4lHsWLt"
      }
    },
    {
      "cell_type": "code",
      "source": [
        "from sklearn.ensemble import GradientBoostingClassifier\n",
        "gb = GradientBoostingClassifier(random_state = 42)\n",
        "scores = cross_validate(gb, train_input, train_target,\n",
        "                        return_train_score = True, n_jobs = -1)\n",
        "\n",
        "print(np.mean(scores['train_score']), np.mean(scores['test_score']))"
      ],
      "metadata": {
        "colab": {
          "base_uri": "https://localhost:8080/"
        },
        "id": "orzzyTMZs09Y",
        "outputId": "794a7458-cfe8-47c6-b668-15421af9146e"
      },
      "execution_count": 7,
      "outputs": [
        {
          "output_type": "stream",
          "name": "stdout",
          "text": [
            "0.8881086892152563 0.8720430147331015\n"
          ]
        }
      ]
    },
    {
      "cell_type": "code",
      "source": [
        "gb = GradientBoostingClassifier(n_estimators = 500, learning_rate = 0.2, random_state = 42)\n",
        "scores = cross_validate(gb, train_input, train_target,\n",
        "                        return_train_score = True, n_jobs = -1)\n",
        "\n",
        "print(np.mean(scores['train_score']), np.mean(scores['test_score']))"
      ],
      "metadata": {
        "colab": {
          "base_uri": "https://localhost:8080/"
        },
        "id": "HguG1xbRtVtq",
        "outputId": "c4faff8c-7fdb-4509-f34a-b347fd2070ce"
      },
      "execution_count": 8,
      "outputs": [
        {
          "output_type": "stream",
          "name": "stdout",
          "text": [
            "0.9464595437171814 0.8780082549788999\n"
          ]
        }
      ]
    },
    {
      "cell_type": "markdown",
      "source": [
        "- 흐름\n",
        "  + 0. 데이터 전처리 / 시각화\n",
        "  + 1. 기본 모형으로 전체 흐름을 설계\n",
        "  + 2. 여러 모형으로 비교 대조\n",
        "  + 3. 교차 검증, 하피어파라미터 성능 비교\n",
        "  + ...\n",
        "  + 1등하는 그날까지"
      ],
      "metadata": {
        "id": "TnZyuHfuuj5b"
      }
    },
    {
      "cell_type": "markdown",
      "source": [
        "# 히스토그램 기반 그레이디언트 부스팅\n",
        "\n",
        "- 정형 데이터를 다루는 머신러닝 알고리즘 중 가장 인기가 높은 알고리즘\n",
        "- 입력 특성을 256개 구간으로 나눔\n",
        "  + 노드를 분할할 때 최적의 분할을 매우 빠르게 찾을 수 있음\n",
        "- 256개의 구간 중에서 하나를 떼어 놓고 누락된 값을 위해서 사용\n",
        "  + 입력에 누락된 특성이 있더라도 이를 따로 전처리할 필요가 없음\n"
      ],
      "metadata": {
        "id": "arcuZ0td3DM3"
      }
    },
    {
      "cell_type": "code",
      "source": [
        "from sklearn.experimental import enable_hist_gradient_boosting\n",
        "from sklearn.ensemble import HistGradientBoostingClassifier\n",
        "hgb = HistGradientBoostingClassifier(random_state = 42)\n",
        "scores = cross_validate(hgb, train_input, train_target,\n",
        "                        return_train_score = True)\n",
        "\n",
        "print(np.mean(scores['train_score']), np.mean(scores['test_score']))"
      ],
      "metadata": {
        "colab": {
          "base_uri": "https://localhost:8080/"
        },
        "id": "oSA0p3R_3x43",
        "outputId": "dfa9ab99-d4e1-42e2-9973-fdcf72e4881f"
      },
      "execution_count": 12,
      "outputs": [
        {
          "output_type": "stream",
          "name": "stdout",
          "text": [
            "0.9321723946453317 0.8801241948619236\n"
          ]
        }
      ]
    },
    {
      "cell_type": "markdown",
      "source": [
        "- 특성 중요도 확인"
      ],
      "metadata": {
        "id": "GSS_bhgK4clQ"
      }
    },
    {
      "cell_type": "code",
      "source": [
        "from sklearn.inspection import permutation_importance\n",
        "\n",
        "hgb.fit(train_input, train_target)\n",
        "result = permutation_importance(hgb, train_input, train_target,\n",
        "                                n_repeats = 10, random_state = 42, n_jobs = -1)\n",
        "\n",
        "print(result.importances_mean)"
      ],
      "metadata": {
        "colab": {
          "base_uri": "https://localhost:8080/"
        },
        "id": "4hAZAF2g4d_g",
        "outputId": "ea90012f-3127-4574-ac29-30021e51cd1f"
      },
      "execution_count": 13,
      "outputs": [
        {
          "output_type": "stream",
          "name": "stdout",
          "text": [
            "[0.08876275 0.23438522 0.08027708]\n"
          ]
        }
      ]
    },
    {
      "cell_type": "markdown",
      "source": [
        "- 테스트 세트의 특성 중요도 확인"
      ],
      "metadata": {
        "id": "SOrS62T94x7o"
      }
    },
    {
      "cell_type": "code",
      "source": [
        "result = permutation_importance(hgb, test_input, test_target,\n",
        "                                n_repeats = 10, random_state = 42, n_jobs = -1)\n",
        "\n",
        "print(result.importances_mean)"
      ],
      "metadata": {
        "colab": {
          "base_uri": "https://localhost:8080/"
        },
        "id": "3dDFbX8D41ZA",
        "outputId": "33b18fce-6db9-41f5-e413-33e25cdb33c8"
      },
      "execution_count": 14,
      "outputs": [
        {
          "output_type": "stream",
          "name": "stdout",
          "text": [
            "[0.05969231 0.20238462 0.049     ]\n"
          ]
        }
      ]
    },
    {
      "cell_type": "markdown",
      "source": [
        "- 테스트 세트의 성능 확인"
      ],
      "metadata": {
        "id": "ug_VBAy34_yg"
      }
    },
    {
      "cell_type": "code",
      "source": [
        "hgb.score(test_input, test_target)"
      ],
      "metadata": {
        "colab": {
          "base_uri": "https://localhost:8080/"
        },
        "id": "77AM7AWX5Cwx",
        "outputId": "66361c44-d194-42b7-f9d7-c72698149069"
      },
      "execution_count": 16,
      "outputs": [
        {
          "output_type": "execute_result",
          "data": {
            "text/plain": [
              "0.8723076923076923"
            ]
          },
          "metadata": {},
          "execution_count": 16
        }
      ]
    },
    {
      "cell_type": "markdown",
      "source": [
        "# XGBoost\n",
        "- 그레디언트 부스팅 알고리즘을 구현한 라이브러리"
      ],
      "metadata": {
        "id": "wNIoRZir5HSQ"
      }
    },
    {
      "cell_type": "code",
      "source": [
        "from xgboost import XGBClassifier\n",
        "xgb = XGBClassifier(tree_method = 'hist', random_state = 42)\n",
        "scores = cross_validate(xgb, train_input, train_target,\n",
        "                        return_train_score = True)\n",
        "\n",
        "print(np.mean(scores['train_score']), np.mean(scores['test_score']))"
      ],
      "metadata": {
        "colab": {
          "base_uri": "https://localhost:8080/"
        },
        "id": "4xQ73MKG5SSQ",
        "outputId": "8423f9db-f71e-401a-8da1-a779f742dd0e"
      },
      "execution_count": 20,
      "outputs": [
        {
          "output_type": "stream",
          "name": "stdout",
          "text": [
            "0.8824322471423747 0.8726214185237284\n"
          ]
        }
      ]
    },
    {
      "cell_type": "markdown",
      "source": [
        "# LightGBM"
      ],
      "metadata": {
        "id": "44CZTf0v5seD"
      }
    },
    {
      "cell_type": "code",
      "source": [
        "from lightgbm import LGBMClassifier\n",
        "lgb = LGBMClassifier(random_state = 42)\n",
        "scores = cross_validate(lgb, train_input, train_target,\n",
        "                        return_train_score = True, n_jobs = -1)\n",
        "\n",
        "print(np.mean(scores['train_score']), np.mean(scores['test_score']))"
      ],
      "metadata": {
        "colab": {
          "base_uri": "https://localhost:8080/"
        },
        "id": "MwQazniQ5uKh",
        "outputId": "92483fa1-5d75-4635-c871-f55ea66c0088"
      },
      "execution_count": 19,
      "outputs": [
        {
          "output_type": "stream",
          "name": "stdout",
          "text": [
            "0.9338079582727165 0.8789710890649293\n"
          ]
        }
      ]
    },
    {
      "cell_type": "markdown",
      "source": [
        "# 마무리"
      ],
      "metadata": {
        "id": "qHz1-73U6N5p"
      }
    },
    {
      "cell_type": "markdown",
      "source": [
        "## 키워드로 끝내는 핵심 포인트\n",
        "\n",
        "- **앙상블 학습**은 더 좋은 예측 결과를 만들기 위해 여러 개의 모델을 훈련하는 머신러닝 알고리즘을 말합니다.\n",
        "- **랜덤 포레스트**는 대표적인 결정 트리 기반의 앙상블 학습 방법입니다. 부트스트랩 샘플을 사용하고 랜덤하게 일부 특성을 선택하여 트리를 만드는 것이 특징입니다.\n",
        "- **엑스트라 트리**는 랜덤 포레스트와 비슷하게 결정 트리를 사용하여 앙상블 모델을 만들지만 부트스트랩 샘플을 사용하지 않습니다. 대신 랜덤하게 노드를 분할해 과대적합을 감소시킵니다.\n",
        "- **그레이디언트 부스팅**은 랜덤 포레스트나 엑스트라 트리와 달리 결정 트리를 연속적으로 추가하여 손실 함수를 최소화하는 앙상블 방법입니다. 이런 이유로 훈련 속도가 조금 느리지만 더 좋은 성능을 기대할 수 있습니다. 그레이디언트 부스팅의 속도를 개선한 것이 **히스토그램 기반 그레이디언트 부스팅**이며 안정적인 결과와 높은 성능으로 매우 인기가 높습니다"
      ],
      "metadata": {
        "id": "8YSPLiYx6PG7"
      }
    },
    {
      "cell_type": "markdown",
      "source": [
        "## 핵심 패키지와 함수\n",
        "\n",
        "### scikit-learn\n",
        "\n",
        "- **RandomForestClassifier**는 랜덤 포레스트 분류 클래스입니다.\n",
        "  + n_estimators 매개변수는 앙상블을 구성할 트리의 개수를 지정합니다. 기본값은 100입니다.\n",
        "  + criterion 매개변수는 불순도를 지정하며 기본값은 지니 불순도를 의미하는 'gini'이고 'entropy'를 선택하여 엔트로피 불순도를 사용할 수 있습니다.\n",
        "  + max_depth는 트리가 성장할 최대 깊이를 지정합니다. 기본값은 None으로 지정하면 리프노드가 순수하거나 min_samples_split보다 샘플 개수가 적을 때까지 성장합니다.\n",
        "  + min_samples_split은 노드를 나누기 위한 최소 샘플의 개수입니다. 기본값은 2입니다.\n",
        "  + max_features 매개변수는 최적의 분할을 위해 탐색할 특성의 개수를 지정합니다. 기본값은 auto로 특성 개수의 제곱근입니다.\n",
        "  + bootstrap 매개변수는 부트스트랩 샘플을 사용할지 지정합니다. 기본값은 True입니다.\n",
        "  + oob_score는 OOB 샘플을 사용하여 훈련한 모델을 평가할지 지정합니다. 기본값은 False입니다.\n",
        "  + n_jobs 매개변수는 병렬 실행에 사용할 CPU 코어 수를 지정합니다. 기본값은 1로 하나의 코어를 사용합니다. -1로 지정하면 시스템에 있는 모든 코어를 사용합니다.\n",
        "\n",
        "- **ExtraTreesClassifier**는 엑스트라 트리 분류 클래스입니다.\n",
        "  + n_estimators, criterion, max_depth, min_samples_split, max_features 매개변수는 랜덤 포레스트와 동일합니다.\n",
        "  + bootstrap 매개변수는 부트스트랩 샘플을 사용할지 지정합니다. 기본값은 False입니다.\n",
        "  + oob_score는 OOB 샘플을 사용하여 훈련한 모델을 평가할지 지정합니다. 기본값은 False입니다.\n",
        "  + n_jobs 매개변수는 병렬 실행에 사용할 CPU 코어 수를 지정합니다. 기본값은 1로 하나의 코어를 사용합니다. -1로 지정하면 시스템에 있는 모든 코어를 사용합니다.\n",
        "\n",
        "- **GradientBoostingClassifier**는 그레이디언트 부스팅 분류 클래스입니다.\n",
        "  + loss 매개변수는 손실 함수를 지정합니다. 기본값은 로지스틱 손실 함수를 의미하는'deviance'입니다.\n",
        "  + learning_rate 매개변수는 트리가 앙상블에 기여하는 정도를 조절합니다. 기본값은 0.1입니다.\n",
        "  + n_estimators 매개변수는 부스팅 단계를 수행하는 트리의 개수입니다. 기본값은 100입니다.\n",
        "  + subsample 매개변수는 사용할 훈련 세트의 샘플 비율을 지정합니다. 기본값은 1.0입니다.\n",
        "  + max_depth 매개변수는 개별 회귀 트리의 최대 깊이입니다. 기본값은 3입니다.\n",
        "\n",
        "- **HistGradientBoostingClassifier**는 히스토그램 기반 그레이디언트 부스팅 분류 클래스입니다.\n",
        "  + learning_rate 매개변수는 학습률 또는 감쇠율이라고 합니다. 기본값은 0.1이며 1.0이면 감쇠가 전혀 없습니다.\n",
        "  + max_iter는 부스팅 단계를 수행하는 트리의 개수입니다. 기본값은 100입니다.\n",
        "  + max_bins는 입력 데이터를 나눌 구간의 개수입니다. 기본값은 255이며 이보다 크게 지정할 수 없습니다. 여기에 1개의 구간이 누락된 값을 위해 추가됩니다."
      ],
      "metadata": {
        "id": "8iPNBTwQ7CH6"
      }
    }
  ]
}