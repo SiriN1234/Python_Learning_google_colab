{
  "nbformat": 4,
  "nbformat_minor": 0,
  "metadata": {
    "colab": {
      "name": "chapter_5_2.ipynb",
      "provenance": [],
      "toc_visible": true,
      "authorship_tag": "ABX9TyMw7kYfmeSF4FC3Yx1Nk8TN",
      "include_colab_link": true
    },
    "kernelspec": {
      "name": "python3",
      "display_name": "Python 3"
    },
    "language_info": {
      "name": "python"
    }
  },
  "cells": [
    {
      "cell_type": "markdown",
      "metadata": {
        "id": "view-in-github",
        "colab_type": "text"
      },
      "source": [
        "<a href=\"https://colab.research.google.com/github/SiriN1234/Python_Learning_google_colab/blob/main/chapter_5_2.ipynb\" target=\"_parent\"><img src=\"https://colab.research.google.com/assets/colab-badge.svg\" alt=\"Open In Colab\"/></a>"
      ]
    },
    {
      "cell_type": "markdown",
      "source": [
        "출처 : 혼자 공부하는 머신러닝+딥러닝"
      ],
      "metadata": {
        "id": "vOLaipDt9x4e"
      }
    },
    {
      "cell_type": "markdown",
      "source": [
        "# 교차 검증과 그리드 서치\n",
        "\n",
        "- 키워드 : 하이퍼파라미터 (그리드서치 vs 랜덤서치)\n",
        "- 데이터가 작을 때, 주로 사용\n",
        "- 하이퍼파라미터\n",
        "  + max_depth : 3, 정확도가 84%\n",
        "- 결론\n",
        "  + 모르면 디폴트만 쓰자\n",
        "  + 가성비 (시간 대비 성능 보장 안됨)"
      ],
      "metadata": {
        "id": "cvywMsKsMDh4"
      }
    },
    {
      "cell_type": "markdown",
      "source": [
        "# 검증 세트\n",
        "\n",
        "- 테스트 세트 (1회성)\n",
        "- 훈련 데이터를 훈련 데이터 + 검증 데이터로 재 분할"
      ],
      "metadata": {
        "id": "qkGRhGfbOXJy"
      }
    },
    {
      "cell_type": "markdown",
      "source": [
        "## 현실\n",
        "\n",
        "- 테스트 데이터가 별도로 존재하지 않음\n",
        "- 전체 데이터 = 훈련 (6) : 검증 (2) : 테스트 (2)\n",
        "  + 테스트 데이터는 모르는 데이터로 생각"
      ],
      "metadata": {
        "id": "kWDBt88BO2hi"
      }
    },
    {
      "cell_type": "markdown",
      "source": [
        "# 데이터 불러오기"
      ],
      "metadata": {
        "id": "FaB9S2F7hFRc"
      }
    },
    {
      "cell_type": "code",
      "source": [
        "import pandas as pd\n",
        "\n",
        "wine = pd.read_csv('https://bit.ly/wine_csv_data')\n",
        "\n",
        "data = wine[['alcohol', 'sugar', 'pH']].to_numpy()\n",
        "target = wine['class'].to_numpy()"
      ],
      "metadata": {
        "id": "9nQvRs58QFrb"
      },
      "execution_count": null,
      "outputs": []
    },
    {
      "cell_type": "code",
      "source": [
        "from sklearn.model_selection import train_test_split\n",
        "\n",
        "train_input, test_input, train_target, test_target = train_test_split(\n",
        "    data, target, test_size = 0.2, random_state = 42\n",
        ")"
      ],
      "metadata": {
        "id": "lfKWm1nLQf1a"
      },
      "execution_count": null,
      "outputs": []
    },
    {
      "cell_type": "markdown",
      "source": [
        "- 검증 세트 만들기"
      ],
      "metadata": {
        "id": "zk-RIP0fhRX8"
      }
    },
    {
      "cell_type": "code",
      "source": [
        "sub_input, val_input, sub_target, val_target = train_test_split(\n",
        "    train_input, train_target, test_size = 0.2, random_state = 42\n",
        ")"
      ],
      "metadata": {
        "id": "AYHICaDaQx47"
      },
      "execution_count": null,
      "outputs": []
    },
    {
      "cell_type": "code",
      "source": [
        "print(sub_input.shape, val_input.shape, test_input.shape)"
      ],
      "metadata": {
        "colab": {
          "base_uri": "https://localhost:8080/"
        },
        "id": "osNzIhfJQ7V4",
        "outputId": "f6391f48-699b-4007-9dfc-5f9ca338ad0d"
      },
      "execution_count": null,
      "outputs": [
        {
          "output_type": "stream",
          "name": "stdout",
          "text": [
            "(4157, 3) (1040, 3) (1300, 3)\n"
          ]
        }
      ]
    },
    {
      "cell_type": "markdown",
      "source": [
        "# 모델 만든 후 평가\n",
        "\n",
        "- 과대적합 발생"
      ],
      "metadata": {
        "id": "RrmDQnP4RESz"
      }
    },
    {
      "cell_type": "code",
      "source": [
        "from sklearn.tree import DecisionTreeClassifier\n",
        "dt = DecisionTreeClassifier(random_state = 42)\n",
        "dt.fit(sub_input, sub_target)\n",
        "print(dt.score(sub_input, sub_target))\n",
        "print(dt.score(val_input, val_target))"
      ],
      "metadata": {
        "colab": {
          "base_uri": "https://localhost:8080/"
        },
        "id": "IAXzBQX3RGsb",
        "outputId": "c642b276-dd5b-45a6-c8fa-79d72cba1da6"
      },
      "execution_count": null,
      "outputs": [
        {
          "output_type": "stream",
          "name": "stdout",
          "text": [
            "0.9971133028626413\n",
            "0.864423076923077\n"
          ]
        }
      ]
    },
    {
      "cell_type": "markdown",
      "source": [
        "# 교차 검증\n",
        "\n",
        "- 교차 검증의 목적 : 좋은 모델이 만들어진다\n",
        "  + 좋은 모델 != 성능 좋은 모델\n",
        "  + 좋은 모델 = 과대적합이 아닌 모델 = 모형의 오차가 적은 모델 = 안정적인 모델\n",
        "- 교재 245p\n",
        "  + 모델 평가 1 : 90% (소요시간 : 1시간)\n",
        "  + 모델 평가 2 : 85%\n",
        "  + 모델 평가 3 : 80%\n",
        "- 단점 : 시간이 오래 걸림"
      ],
      "metadata": {
        "id": "9ZdE21sfReZL"
      }
    },
    {
      "cell_type": "markdown",
      "source": [
        "# 교차 검증 함수\n",
        "\n",
        "- 사이킷런에 cross_validate()라는 교차 검증 함수 사용\n",
        "- 먼저 평가할 모델 객체를 첫 번째 매개변수로 전달, 그 다음 훈련세트 전체를 cross_validate() 함수에 전달"
      ],
      "metadata": {
        "id": "MGuzscybTW9U"
      }
    },
    {
      "cell_type": "code",
      "source": [
        "from sklearn.model_selection import cross_validate\n",
        "scores = cross_validate(dt, train_input, train_target)\n",
        "\n",
        "print(scores)"
      ],
      "metadata": {
        "colab": {
          "base_uri": "https://localhost:8080/"
        },
        "id": "NOc_pCmlRiBr",
        "outputId": "c1f516fa-4e72-495e-a722-70e4e111e0e3"
      },
      "execution_count": null,
      "outputs": [
        {
          "output_type": "stream",
          "name": "stdout",
          "text": [
            "{'fit_time': array([0.02719903, 0.01022577, 0.01074076, 0.01042938, 0.0099504 ]), 'score_time': array([0.00116682, 0.00098372, 0.00113153, 0.00108194, 0.0010345 ]), 'test_score': array([0.86923077, 0.84615385, 0.87680462, 0.84889317, 0.83541867])}\n"
          ]
        }
      ]
    },
    {
      "cell_type": "markdown",
      "source": [
        "- 최종점수 평균 구하기\n",
        "- 검증 폴드의 점수임"
      ],
      "metadata": {
        "id": "5jQ_tFfjTwrk"
      }
    },
    {
      "cell_type": "code",
      "source": [
        "import numpy as np\n",
        "\n",
        "print(np.mean(scores['test_score']))"
      ],
      "metadata": {
        "colab": {
          "base_uri": "https://localhost:8080/"
        },
        "id": "yhRzqjeQTzDj",
        "outputId": "916664fd-4628-4254-df7e-ee5a34b2dff6"
      },
      "execution_count": null,
      "outputs": [
        {
          "output_type": "stream",
          "name": "stdout",
          "text": [
            "0.8574181117533719\n"
          ]
        }
      ]
    },
    {
      "cell_type": "markdown",
      "source": [
        "- 훈련 세트 섞은 후, 10-폴드 교차검증"
      ],
      "metadata": {
        "id": "Ok01YJhkUHv8"
      }
    },
    {
      "cell_type": "code",
      "source": [
        "from sklearn.model_selection import StratifiedKFold\n",
        "splitter = StratifiedKFold(n_splits = 10, shuffle = True, random_state = 42)\n",
        "scores = cross_validate(dt, train_input, train_target, cv = splitter)\n",
        "\n",
        "print(np.mean(scores['test_score']))"
      ],
      "metadata": {
        "colab": {
          "base_uri": "https://localhost:8080/"
        },
        "id": "GBo4b3UtT-xE",
        "outputId": "b39fedc7-b202-4b92-fe6f-8f73619dabbf"
      },
      "execution_count": null,
      "outputs": [
        {
          "output_type": "stream",
          "name": "stdout",
          "text": [
            "0.8574181117533719\n"
          ]
        }
      ]
    },
    {
      "cell_type": "markdown",
      "source": [
        "# 하이퍼파라미터 튜닝을 꼭 하고싶다면\n",
        "\n",
        "- 랜덤 서치를 사용하자\n",
        "- 자동으로 잡아주는 라이브러리들이 등장하기 시작함\n",
        "  + hyperopt"
      ],
      "metadata": {
        "id": "75mzbeocaDR4"
      }
    },
    {
      "cell_type": "markdown",
      "source": [
        "## 그리드 서치\n",
        "\n",
        "- 하이퍼파라미터 탐색과 교차 검증을 한 번에 수행함\n",
        "- 별도로 cross_validate() 함수를 호출할 필요 없음"
      ],
      "metadata": {
        "id": "CV3455o2iZe0"
      }
    },
    {
      "cell_type": "code",
      "source": [
        "from sklearn.model_selection import GridSearchCV\n",
        "params = {'min_impurity_decrease' : [0.0001, 0.0002, 0.0003, 0.0004, 0.0005]}\n",
        "\n",
        "gs = GridSearchCV(DecisionTreeClassifier(random_state = 42), params, n_jobs = -1)\n",
        "gs.fit(train_input, train_target)"
      ],
      "metadata": {
        "colab": {
          "base_uri": "https://localhost:8080/"
        },
        "id": "pwLg_qCHa5qx",
        "outputId": "e335bc5c-83c6-4e23-965c-659921262ad2"
      },
      "execution_count": null,
      "outputs": [
        {
          "output_type": "execute_result",
          "data": {
            "text/plain": [
              "GridSearchCV(estimator=DecisionTreeClassifier(random_state=42), n_jobs=-1,\n",
              "             param_grid={'min_impurity_decrease': [0.0001, 0.0002, 0.0003,\n",
              "                                                   0.0004, 0.0005]})"
            ]
          },
          "metadata": {},
          "execution_count": 20
        }
      ]
    },
    {
      "cell_type": "markdown",
      "source": [
        "- 그리드 서치는 훈련이 끝나면 모델 중에서 검증 점수가 가장 높은 모델의 매개변수 조합으로 전체 훈련 세트에서 자도응로 다시 모델을 훈련 함\n",
        "- 이 모델은 gs 객체의 best_estimator_ 속성에 저장되어 있음\n",
        "- 그리드 서치로 찾은 최적의 매개변수는 best_params_ 속성에 저장되어 있음"
      ],
      "metadata": {
        "id": "Xqx16JDyjEKu"
      }
    },
    {
      "cell_type": "code",
      "source": [
        "dt = gs.best_estimator_\n",
        "print(dt)\n",
        "print(dt.score(train_input, train_target))\n",
        "print(gs.best_params_)"
      ],
      "metadata": {
        "colab": {
          "base_uri": "https://localhost:8080/"
        },
        "id": "LvsbXxrsb6TK",
        "outputId": "c9e15c0c-1459-487d-df46-2c334d783979"
      },
      "execution_count": null,
      "outputs": [
        {
          "output_type": "stream",
          "name": "stdout",
          "text": [
            "DecisionTreeClassifier(min_impurity_decrease=0.0001, random_state=42)\n",
            "0.9615162593804117\n",
            "{'min_impurity_decrease': 0.0001}\n"
          ]
        }
      ]
    },
    {
      "cell_type": "markdown",
      "source": [
        "- 교차 검증으로 얻은 점수 출력"
      ],
      "metadata": {
        "id": "ksTVXBGxmOOO"
      }
    },
    {
      "cell_type": "code",
      "source": [
        "print(gs.cv_results_['mean_test_score'])"
      ],
      "metadata": {
        "colab": {
          "base_uri": "https://localhost:8080/"
        },
        "id": "e1aglQRHdZda",
        "outputId": "e1bc60df-6eaa-47d1-9087-2bf165d304cf"
      },
      "execution_count": null,
      "outputs": [
        {
          "output_type": "stream",
          "name": "stdout",
          "text": [
            "[0.86819297 0.86453617 0.86492226 0.86780891 0.86761605]\n"
          ]
        }
      ]
    },
    {
      "cell_type": "markdown",
      "source": [
        "## 랜덤 서치\n",
        "\n",
        "- 252p\n",
        "- 매개변수 값의 목록을 전달하는 것이 아니라 매개변수를 샘플링 할 수 있도록 확률 분포 객체를 전달\n",
        "- scipy는 파이썬의 핵심 과학 라이브러리 중 하나. 적분, 보간, 선형 대수, 확률 등을 포함한 수치 계산 전용 라이브러리.\n",
        "- uniform과 randint 클래스는 모두 주어진 범위에서 고르게 값을 뽑음\n",
        "- 이를 '균등 군포에서 샘플링한다'라고 말 함\n",
        "- randint는 정수를 뽑고 uniform은 실수를 뽑음"
      ],
      "metadata": {
        "id": "uj52wLQ9eAQ7"
      }
    },
    {
      "cell_type": "code",
      "source": [
        "from scipy.stats import uniform, randint\n",
        "\n",
        "rgen = randint(0, 10)\n",
        "rgen.rvs(10)"
      ],
      "metadata": {
        "colab": {
          "base_uri": "https://localhost:8080/"
        },
        "id": "sE6LmYSNeRlY",
        "outputId": "ef0a5980-8b57-4c3c-8053-38d860d8e22c"
      },
      "execution_count": null,
      "outputs": [
        {
          "output_type": "execute_result",
          "data": {
            "text/plain": [
              "array([2, 7, 0, 3, 9, 2, 3, 7, 4, 4])"
            ]
          },
          "metadata": {},
          "execution_count": 25
        }
      ]
    },
    {
      "cell_type": "code",
      "source": [
        "np.unique(rgen.rvs(1000), return_counts = True)"
      ],
      "metadata": {
        "colab": {
          "base_uri": "https://localhost:8080/"
        },
        "id": "xEmwMv7FefLz",
        "outputId": "587737c5-74b3-4995-c5f8-4814a2d69eed"
      },
      "execution_count": null,
      "outputs": [
        {
          "output_type": "execute_result",
          "data": {
            "text/plain": [
              "(array([0, 1, 2, 3, 4, 5, 6, 7, 8, 9]),\n",
              " array([ 96,  93, 105,  93, 105,  97,  87, 105, 113, 106]))"
            ]
          },
          "metadata": {},
          "execution_count": 26
        }
      ]
    },
    {
      "cell_type": "code",
      "source": [
        "from sklearn.model_selection import RandomizedSearchCV\n",
        "\n",
        "# p.254\n",
        "\n",
        "params = {\n",
        "    'min_impurity_decrease' : uniform(0.0001, 0.001), # 0.0001에서 0.001 사이의 실숫값을 샘플링\n",
        "    'max_depth' : randint(20, 50), # 20에서 50 사이의 정수를 샘플링\n",
        "    'min_samples_split' : randint(2, 25), # 2에서 25 사이의 정수를 샘플링\n",
        "    'min_samples_leaf' : randint(1, 25), # 1에서 25 사이의 정수를 샘플링\n",
        "}\n",
        "\n",
        "# params에 정의된 매개변수 범위에서 총 100번(n_iter 매개변수)을 샘플링하여 교차 검증을 수행하고, 최적의 매개변수 조합을 찾음\n",
        "gs = RandomizedSearchCV(DecisionTreeClassifier(random_state = 42), params,\n",
        "                        n_iter = 100, n_jobs = -1, random_state = 42)\n",
        "\n",
        "gs.fit(train_input, train_target)"
      ],
      "metadata": {
        "colab": {
          "base_uri": "https://localhost:8080/"
        },
        "id": "A6DeCdIieylC",
        "outputId": "37d88e90-ad06-401b-b273-41842528ee13"
      },
      "execution_count": null,
      "outputs": [
        {
          "output_type": "execute_result",
          "data": {
            "text/plain": [
              "RandomizedSearchCV(estimator=DecisionTreeClassifier(random_state=42),\n",
              "                   n_iter=100, n_jobs=-1,\n",
              "                   param_distributions={'max_depth': <scipy.stats._distn_infrastructure.rv_frozen object at 0x7fed0d11b210>,\n",
              "                                        'min_impurity_decrease': <scipy.stats._distn_infrastructure.rv_frozen object at 0x7fed0d11b2d0>,\n",
              "                                        'min_samples_leaf': <scipy.stats._distn_infrastructure.rv_frozen object at 0x7fed0d14fe90>,\n",
              "                                        'min_samples_split': <scipy.stats._distn_infrastructure.rv_frozen object at 0x7fed0d0f33d0>},\n",
              "                   random_state=42)"
            ]
          },
          "metadata": {},
          "execution_count": 30
        }
      ]
    },
    {
      "cell_type": "markdown",
      "source": [
        "- 최적의 매개변수 조합 출력"
      ],
      "metadata": {
        "id": "xDvm6WX5w-tc"
      }
    },
    {
      "cell_type": "code",
      "source": [
        "gs.best_params_"
      ],
      "metadata": {
        "colab": {
          "base_uri": "https://localhost:8080/"
        },
        "id": "hs96ufuqfu1r",
        "outputId": "377d93cf-8ed8-487f-e2b7-f1601133821e"
      },
      "execution_count": null,
      "outputs": [
        {
          "output_type": "execute_result",
          "data": {
            "text/plain": [
              "{'max_depth': 39,\n",
              " 'min_impurity_decrease': 0.00034102546602601173,\n",
              " 'min_samples_leaf': 7,\n",
              " 'min_samples_split': 13}"
            ]
          },
          "metadata": {},
          "execution_count": 31
        }
      ]
    },
    {
      "cell_type": "markdown",
      "source": [
        "# 마무리"
      ],
      "metadata": {
        "id": "em4Til7gxFF0"
      }
    },
    {
      "cell_type": "markdown",
      "source": [
        "## 키워드로 끝내는 핵심 포인트\n",
        "\n",
        "- **검증 세트**는 하이퍼파라미터 튜닝을 위해 모델을 평가할 때, 테스트 세트를 사용하지 않기 위해 훈련 세트에서 다시 떼어 낸 데이터 세트입니다.\n",
        "- **교차 검증**은 훈련 세트를 여러 폴드로 나눈 다음 한 폴드가 검증 세트의 역할을 하고 나머지 폴드에서는 모델을 훈련합니다. 교차 검증은 이런 식으로 모든 폴드에 대해 검증 점수를 얻어 평균하는 방법입니다.\n",
        "- **그리드 서치**는 하이퍼파라미터 탐색을 자동화해 주는 도구입니다. 탐색할 매개변수를 나열하면 교차 검증을 수행하여 가장 좋은 검증 점수의 매개변수 조합을 선택합니다. 마지막으로 이 매개변수 조합으로 최종 모델을 훈련합니다.\n",
        "- *랜덤 서치**는 연속된 매개변수 값을 탐색할 때 유용합니다. 탐색할 값을 직접 나열하는 것이 아니고 탐색 값을 샘플링할 수 있는 확률 분포 객체를 전달합니다. 지정된 횟수만큼 샘플링하여 교차 검증을 수행하기 때문에 시스템 자원이 허락하는 만큼 탐색량을 조절할 수 있습니다."
      ],
      "metadata": {
        "id": "7yDsEeHrxHFs"
      }
    },
    {
      "cell_type": "markdown",
      "source": [
        "## 핵심 패키지와 함수\n",
        "\n",
        "### scikit-learn\n",
        "\n",
        "- **cross_validate()**는 교차 검증을 수행하는 함수힙니다\n",
        "  + 첫 번째 매개변수에 교차 검증을 수행할 무델 객체를 전달합니다. 두 번째와 세 번째 매개변수에 특성과 타깃 데이터를 전달합니다.\n",
        "  + scoring 매개변수에 검증에 사용할 평가 지표를 지정할 수 있습니다. 기본적으로 분류 모델은 정확도를 의미하는 'accuracy', 회귀 무델은 결정계수를 의미하는 'r2'가 됩니다.\n",
        "  + cv 매개변수에 교차 검증 폴드 수나 스플리터 객체를 지정할 수 있습니다. 기본값은 5입니다. 회귀할 때는 KFold 클래스를 사용하고 분류일 때는 StratifiedKFold 클래스를 사용하여 5-폴드 교차 검증을 수행합니다\n",
        "  + n_jobs 매개변수는 교차 검증을 수행할 때 사용할 CPU 코어 수를 지정합니다. 기본값은 1로 하나의 코어를 사용합니다. -1로 지정하면 시스템에 있는 모든 코어를 사용합니다.\n",
        "  + return_train_score 매개변수를 True로 지정하면 훈련 세트의 점수도 반환합니다. 기본값은 False입니다.\n",
        "\n",
        "- **GridSearchCV**는 교차 검증으로 하이퍼파라미터 탐색을 수행합니다. 최상의 무델을 찾은 후 훈련 세트 전체를 사용해 최종 모델을 훈련합니다.\n",
        "  + 첫 번째 매개변수로 그리드 서치를 수행할 모델 객체를 전달합니다. 두 번째 매개변수에는 탐색할 모델의 매개변수와 값을 전달합니다.\n",
        "  + scoring, cv, n_jobs, return_train_score 매개변수는 cross_validate() 함수와 동일합니다.\n",
        "\n",
        "- **RandomizedSearchCV**는 교차 검증으로 랜덤한 하이퍼파라미터 탐색을 수행합니다. 최상의 무델을 찾은 후 훈련 세트 전체를 사용해 최종 모델을 훈련합니다.\n",
        "  + 첫 번째 매개변수로 그리드 서치를 수행할 모델 객체를 전달합니다. 두 번째 매개변수에는 탐색할 모델의 매개변수와 확률 분포 객체를 전달합니다.\n",
        "  + scoring, cv, n_jobs, return_train_score 매개변수는 cross_validate() 함수와 동일합니다."
      ],
      "metadata": {
        "id": "Cu_K0VXk0Hj-"
      }
    }
  ]
}